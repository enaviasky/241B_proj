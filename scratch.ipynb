{
 "cells": [
  {
   "cell_type": "code",
   "execution_count": 2,
   "metadata": {
    "collapsed": false,
    "scrolled": false
   },
   "outputs": [
    {
     "name": "stdout",
     "output_type": "stream",
     "text": [
      "Mean: -0.25\n"
     ]
    }
   ],
   "source": [
    "err = 0 \n",
    "carry = 0b1000\n",
    "#print(\"a\", \"b\", \"|\", \"+\" , \"o\", \"e\")\n",
    "#print(\"-------------\")\n",
    "for a in range(16):\n",
    "    for b in range(16):\n",
    "        lor = a|b\n",
    "        if(carry&a&b == carry): \n",
    "            lor=lor+0b10000\n",
    "        err = err + ((a+b) - lor)\n",
    "        #print(a, b, \"|\", (a+b) , lor, (a+b) - lor)\n",
    "print(\"Mean:\" ,err/(16*16))"
   ]
  },
  {
   "cell_type": "code",
   "execution_count": 2,
   "metadata": {
    "collapsed": true
   },
   "outputs": [],
   "source": [
    "import numpy as np\n",
    "import matplotlib.pyplot as plt\n",
    "import matplotlib.mlab as mlab\n",
    "%matplotlib inline\n",
    "from scipy.stats import norm\n",
    "from scipy.interpolate import interp1d\n",
    "import scipy.stats as st\n",
    "\n",
    "def aprx_add (a, b, bits):\n",
    "    carry = 1<<(bits-1);\n",
    "    lor = a|b\n",
    "    if(carry&a&b == carry): \n",
    "        lor=lor+(carry<<1)\n",
    "        \n",
    "    return lor"
   ]
  },
  {
   "cell_type": "code",
   "execution_count": 13,
   "metadata": {
    "collapsed": false
   },
   "outputs": [
    {
     "name": "stdout",
     "output_type": "stream",
     "text": [
      "More nums error: 0.25\n"
     ]
    },
    {
     "data": {
      "image/png": "[encoded data removed]",
      "text/plain": [
       "<matplotlib.figure.Figure at 0x7f5ee362d6d8>"
      ]
     },
     "metadata": {},
     "output_type": "display_data"
    }
   ],
   "source": [
    "aprx_all = []\n",
    "add_all = []\n",
    "for a in range(16): \n",
    "    for b in range(16):\n",
    "        aprx_all = aprx_all +  [aprx_add(a, b, 4)]\n",
    "        add_all = add_all + [a+b]\n",
    "error = np.asarray(aprx_all) - np.asarray(add_all)\n",
    "n, bins, patches = plt.hist(error)\n",
    "print(\"More nums error:\", np.mean(error))"
   ]
  },
  {
   "cell_type": "code",
   "execution_count": 17,
   "metadata": {
    "collapsed": false
   },
   "outputs": [
    {
     "name": "stdout",
     "output_type": "stream",
     "text": [
      "Multiple Approx Adds in a Row:\n",
      "Nums: 15985824 15794175\n",
      "Err: 191649\n",
      "Percent Err: 0.0119886844744\n"
     ]
    }
   ],
   "source": [
    "NUM_RUNS = 500\n",
    "nums_rand = np.random.rand(NUM_RUNS)\n",
    "nums_rand = nums_rand * pow(2, 16)\n",
    "nums_rand = nums_rand.astype(np.uint32)\n",
    "\n",
    "mask_l = 0x0000ffff\n",
    "mask_u = 0xffff0000\n",
    "\n",
    "add_num = 0\n",
    "aprox_num = 0\n",
    "\n",
    "for curr_num in nums_rand:\n",
    "    add_num = add_num + curr_num\n",
    "    \n",
    "    masked_sum = aprox_num & mask_l\n",
    "    aprox_num = (aprox_num & mask_u) + aprx_add(masked_sum, curr_num, 16)\n",
    "\n",
    "print (\"Multiple Approx Adds in a Row:\")\n",
    "print (\"Nums:\",add_num, aprox_num)\n",
    "print(\"Err:\",(add_num.astype(int) - aprox_num.astype(int)).astype(int))\n",
    "print (\"Percent Err:\",(add_num-aprox_num)/add_num)"
   ]
  },
  {
   "cell_type": "code",
   "execution_count": 3,
   "metadata": {
    "collapsed": false
   },
   "outputs": [
    {
     "name": "stdout",
     "output_type": "stream",
     "text": [
      "Mean= 36.87585\n",
      "Add: [3806257984] Aprox: [3806257151] Err: [833] Err Plotted: [-833]\n"
     ]
    },
    {
     "name": "stderr",
     "output_type": "stream",
     "text": [
      "/home/emily/anaconda3/lib/python3.4/site-packages/IPython/kernel/__main__.py:19: RuntimeWarning: overflow encountered in uint_scalars\n"
     ]
    },
    {
     "data": {
      "image/png": "[encoded data removed]",
      "text/plain": [
       "<matplotlib.figure.Figure at 0x7f3bb2cade48>"
      ]
     },
     "metadata": {},
     "output_type": "display_data"
    }
   ],
   "source": [
    "NUM_RUNS = 1000000\n",
    "nums_a = np.random.rand(NUM_RUNS)\n",
    "nums_a = nums_a * (pow(2, 32))\n",
    "nums_a = nums_a.astype(np.uint32)\n",
    "\n",
    "nums_b = np.random.rand(NUM_RUNS)\n",
    "nums_b = nums_b * (pow(2, 32))\n",
    "nums_b = nums_b.astype(np.uint32)\n",
    "\n",
    "ans_lor= np.zeros([NUM_RUNS,1], dtype=np.uint32) \n",
    "ans_add= np.zeros([NUM_RUNS,1], dtype=np.uint32) \n",
    "mask_l = 0x0000ffff\n",
    "mask_u = 0xffff0000\n",
    "\n",
    "for i in range(NUM_RUNS):\n",
    "    lower = aprx_add(nums_a[i]&mask_l, nums_b[i]&mask_l, 16)\n",
    "    upper = (nums_a[i]&mask_u) + (nums_b[i]&mask_u)\n",
    "    ans_lor[i] = lower + upper\n",
    "    ans_add[i] = nums_a[i] + nums_b[i]\n",
    "    #print(format(nums_a[i],'x'))\n",
    "    #print(format(nums_b[i],'x'))\n",
    "    #print(\"\")\n",
    "    #print(format(upper,'x') , format(lower,'x'))\n",
    "    #print(format(ans_lor[i,0],'x'))\n",
    "    #print(format(ans_add[i,0],'x'))\n",
    "    #print(\"\")\n",
    "    \n",
    "data_in = (ans_lor.astype(int) - ans_add.astype(int)).astype(int)#/ans_add.astype(int)\n",
    "for i in np.where(data_in>4000000000)[0]:\n",
    "    data_in[i] = 0 \n",
    "\n",
    "(mu, sigma) = norm.fit(data_in)\n",
    "# the histogram of the data\n",
    "n, bins, patches = plt.hist(data_in, 80, normed=1, facecolor='green', alpha=0.75)\n",
    "\n",
    "#plot\n",
    "plt.xlabel('Error')\n",
    "plt.ylabel('Error Occurence')\n",
    "plt.show()\n",
    "\n",
    "print(\"Mean=\",mu)\n",
    "print(\"Add:\",ans_add[1],\"Aprox:\", ans_lor[1],\"Err:\", ans_add[1]- ans_lor[1],\"Err Plotted:\", data_in[1])"
   ]
  },
  {
   "cell_type": "code",
   "execution_count": 16,
   "metadata": {
    "collapsed": false
   },
   "outputs": [
    {
     "ename": "ValueError",
     "evalue": "The first argument of bincount must be non-negative",
     "output_type": "error",
     "traceback": [
      "\u001b[1;31m---------------------------------------------------------------------------\u001b[0m",
      "\u001b[1;31mValueError\u001b[0m                                Traceback (most recent call last)",
      "\u001b[1;32m<ipython-input-16-bf27262ea0e7>\u001b[0m in \u001b[0;36m<module>\u001b[1;34m()\u001b[0m\n\u001b[1;32m----> 1\u001b[1;33m \u001b[0mb\u001b[0m \u001b[1;33m=\u001b[0m \u001b[0mnp\u001b[0m\u001b[1;33m.\u001b[0m\u001b[0mbincount\u001b[0m\u001b[1;33m(\u001b[0m\u001b[0mdata_in\u001b[0m\u001b[1;33m.\u001b[0m\u001b[0mflatten\u001b[0m\u001b[1;33m(\u001b[0m\u001b[1;33m)\u001b[0m\u001b[1;33m,\u001b[0m \u001b[1;36m80\u001b[0m\u001b[1;33m)\u001b[0m\u001b[1;33m\u001b[0m\u001b[0m\n\u001b[0m\u001b[0;32m      2\u001b[0m \u001b[0mp\u001b[0m \u001b[1;33m=\u001b[0m \u001b[0mb\u001b[0m \u001b[1;33m/\u001b[0m \u001b[0mfloat\u001b[0m\u001b[1;33m(\u001b[0m\u001b[0mb\u001b[0m\u001b[1;33m.\u001b[0m\u001b[0msum\u001b[0m\u001b[1;33m(\u001b[0m\u001b[1;33m)\u001b[0m\u001b[1;33m)\u001b[0m\u001b[1;33m\u001b[0m\u001b[0m\n\u001b[0;32m      3\u001b[0m \u001b[1;33m\u001b[0m\u001b[0m\n\u001b[0;32m      4\u001b[0m \u001b[1;33m(\u001b[0m\u001b[0mmu\u001b[0m\u001b[1;33m,\u001b[0m \u001b[0msigma\u001b[0m\u001b[1;33m)\u001b[0m \u001b[1;33m=\u001b[0m \u001b[0mnorm\u001b[0m\u001b[1;33m.\u001b[0m\u001b[0mfit\u001b[0m\u001b[1;33m(\u001b[0m\u001b[0mdata_in\u001b[0m\u001b[1;33m)\u001b[0m\u001b[1;33m\u001b[0m\u001b[0m\n\u001b[0;32m      5\u001b[0m \u001b[1;31m# the histogram of the data\u001b[0m\u001b[1;33m\u001b[0m\u001b[1;33m\u001b[0m\u001b[0m\n",
      "\u001b[1;31mValueError\u001b[0m: The first argument of bincount must be non-negative"
     ]
    }
   ],
   "source": [
    "b = np.bincount(data_in.flatten(), 80)\n",
    "p = b / float(b.sum())\n",
    "\n",
    "(mu, sigma) = norm.fit(data_in)\n",
    "# the histogram of the data\n",
    "#n, bins, patches = plt.hist(data_in, 80, normed=1, facecolor='blue', alpha=0.5)\n",
    "plt.bar(np.arange(len(b)) - 0.5, p, facecolor='blue', alpha=0.5)\n",
    "\n",
    "#plot\n",
    "plt.xlabel('(Approx - Accurate) Error')\n",
    "plt.ylabel('Error Occurence')\n",
    "plt.show()\n",
    "\n",
    "print(\"Mean=\",mu)\n",
    "print(\"Add:\",ans_add[1],\"Aprox:\", ans_lor[1],\"Err:\", ans_add[1]- ans_lor[1],\"Err Plotted:\", data_in[1])"
   ]
  },
  {
   "cell_type": "code",
   "execution_count": 76,
   "metadata": {
    "collapsed": false
   },
   "outputs": [],
   "source": [
    "f = interp1d(bins[1:], n, kind='linear')\n",
    "xnew = np.linspace(bins[1], bins[-1], num=1000, endpoint=True)\n",
    "\n",
    "class my_pdf(st.rv_continuous):\n",
    "    def _pdf(self,x):\n",
    "        return f(x)  # Normalized over its range, in this case [0,1]\n",
    "    \n",
    "my_cv = my_pdf(a=0, b=1, name='my_pdf')"
   ]
  },
  {
   "cell_type": "code",
   "execution_count": 78,
   "metadata": {
    "collapsed": true
   },
   "outputs": [],
   "source": [
    "test_f = my_cv.rvs(size=100)\n",
    "\n",
    "#plt.hist(test_f, 10, normed=1, facecolor='green', alpha=0.75)"
   ]
  },
  {
   "cell_type": "code",
   "execution_count": null,
   "metadata": {
    "collapsed": true
   },
   "outputs": [],
   "source": [
    "class my_pdf(st.rv_continuous):\n",
    "    def _pdf(self,x):\n",
    "        return 3*x**2  # Normalized over its range, in this case [0,1]\n",
    "\n",
    "my_cv = my_pdf(a=0, b=1, name='my_pdf')"
   ]
  },
  {
   "cell_type": "code",
   "execution_count": 19,
   "metadata": {
    "collapsed": false
   },
   "outputs": [
    {
     "name": "stdout",
     "output_type": "stream",
     "text": [
      "Add: [1034952018] Aprox: [1034942286] Err: [4294957564] Err Plotted: [-9732]\n"
     ]
    },
    {
     "data": {
      "text/plain": [
       "1.5690299999999999"
      ]
     },
     "execution_count": 19,
     "metadata": {},
     "output_type": "execute_result"
    }
   ],
   "source": [
    "i = 7\n",
    "print(\"Add:\",ans_add[i],\"Aprox:\", ans_lor[i],\"Err:\", ans_lor[i]- ans_add[i],\"Err Plotted:\", data_in[i])\n",
    "for i in np.where(data_in>4000000000)[0]:\n",
    "    data_in[i] = 0 \n",
    "    \n",
    "np.mean(data_in)\n"
   ]
  },
  {
   "cell_type": "code",
   "execution_count": 20,
   "metadata": {
    "collapsed": false
   },
   "outputs": [
    {
     "name": "stdout",
     "output_type": "stream",
     "text": [
      "65535\n",
      "131070\n",
      "\n",
      "1000000000000011\n",
      "1000000000000011\n",
      "\n",
      "11000000000000011\n",
      "add= 65542\n"
     ]
    }
   ],
   "source": [
    "print(pow(2,16)-1)\n",
    "print((pow(2,16)-1)*2)\n",
    "i = 1\n",
    "print(\"\")\n",
    "a = 0x8003\n",
    "b = 0x8003\n",
    "print(format(a, 'b'))\n",
    "print(format(b, 'b'))\n",
    "print(\"\")\n",
    "lor = aprx_add(a, b, 16)\n",
    "print(format(lor, 'b'))\n",
    "print(\"add=\", a + b)"
   ]
  },
  {
   "cell_type": "code",
   "execution_count": 23,
   "metadata": {
    "collapsed": false
   },
   "outputs": [
    {
     "name": "stdout",
     "output_type": "stream",
     "text": [
      "[[1, 1], [1, 1]]\n"
     ]
    }
   ],
   "source": [
    "a = []\n",
    "b = [1,1]\n",
    "c = [1,2]\n",
    "a.append(b)\n",
    "a.append(b)\n",
    "print(a)"
   ]
  },
  {
   "cell_type": "code",
   "execution_count": 59,
   "metadata": {
    "collapsed": false
   },
   "outputs": [
    {
     "data": {
      "text/plain": [
       "array([[0, 1, 2],\n",
       "       [3, 4, 5]])"
      ]
     },
     "execution_count": 59,
     "metadata": {},
     "output_type": "execute_result"
    }
   ],
   "source": [
    "a = np.array(range(100))\n",
    "b = a[:2*3].reshape(2,3)\n",
    "b"
   ]
  },
  {
   "cell_type": "code",
   "execution_count": null,
   "metadata": {
    "collapsed": true
   },
   "outputs": [],
   "source": [
    "20, 24, 24 kernel=5\n",
    "50, 8, 8 kernel=5\n",
    "100, 500"
   ]
  },
  {
   "cell_type": "code",
   "execution_count": null,
   "metadata": {
    "collapsed": false
   },
   "outputs": [],
   "source": []
  },
  {
   "cell_type": "code",
   "execution_count": null,
   "metadata": {
    "collapsed": true
   },
   "outputs": [],
   "source": []
  }
 ],
 "metadata": {
  "kernelspec": {
   "display_name": "Python 3",
   "language": "python",
   "name": "python3"
  },
  "language_info": {
   "codemirror_mode": {
    "name": "ipython",
    "version": 3
   },
   "file_extension": ".py",
   "mimetype": "text/x-python",
   "name": "python",
   "nbconvert_exporter": "python",
   "pygments_lexer": "ipython3",
   "version": "3.4.3"
  }
 },
 "nbformat": 4,
 "nbformat_minor": 0
}
